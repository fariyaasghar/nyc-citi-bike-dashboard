{
 "cells": [
  {
   "cell_type": "code",
   "execution_count": 1,
   "id": "590119f3-8c75-4ba7-9ced-ca4d503047e9",
   "metadata": {},
   "outputs": [
    {
     "name": "stdout",
     "output_type": "stream",
     "text": [
      "Filtered data to 29,838,166 trips from 2022.\n",
      "\n",
      "SUCCESS! Created a clean random sample with 149,372 rows.\n",
      "File saved as 'citi_bike_2022_small_sample.csv'.\n"
     ]
    }
   ],
   "source": [
    "import pandas as pd\n",
    "import numpy as np\n",
    "\n",
    "try:\n",
    "    # Load the full, enriched dataset using the efficient dtype method.\n",
    "    column_dtypes = {\n",
    "        'start_station_name': str, 'start_station_id': str,\n",
    "        'end_station_name': str, 'end_station_id': str\n",
    "    }\n",
    "    df_full = pd.read_csv(\n",
    "        'citi_bike_2022_with_weather.csv',\n",
    "        dtype=column_dtypes\n",
    "    )\n",
    "    \n",
    "    # --- DATA CLEANING STEP ---\n",
    "    # First, convert 'started_at' to a proper datetime format.\n",
    "    df_full['started_at'] = pd.to_datetime(df_full['started_at'])\n",
    "    \n",
    "    # THE FIX: Filter the DataFrame to include ONLY data from the year 2022.\n",
    "    df_2022_only = df_full[df_full['started_at'].dt.year == 2022].copy()\n",
    "    print(f\"Filtered data to {len(df_2022_only):,} trips from 2022.\")\n",
    "\n",
    "    # --- SAMPLING STEP ---\n",
    "    # Now, we proceed with the sampling process on this clean, 2022-only data.\n",
    "    columns_to_keep = [\n",
    "        'started_at', \n",
    "        'start_station_name',\n",
    "        'member_casual',\n",
    "    ]\n",
    "    df_to_sample = df_2022_only[columns_to_keep]\n",
    "\n",
    "    # Create the random sample.\n",
    "    np.random.seed(32) # Seed for reproducibility\n",
    "    sample_fraction = 0.005 # 0.5% sample\n",
    "    mask = np.random.rand(len(df_to_sample)) <= sample_fraction\n",
    "\n",
    "    df_small_sample = df_to_sample[mask]\n",
    "\n",
    "    # Save the sample to a new CSV file.\n",
    "    output_filename = 'citi_bike_2022_small_sample.csv'\n",
    "    df_small_sample.to_csv(output_filename, index=False)\n",
    "\n",
    "    print(f\"\\nSUCCESS! Created a clean random sample with {len(df_small_sample):,} rows.\")\n",
    "    print(f\"File saved as '{output_filename}'.\")\n",
    "    \n",
    "except FileNotFoundError:\n",
    "    print(\"\\nERROR: The main data file 'citi_bike_2022_with_weather.csv' was not found.\")\n",
    "except Exception as e:\n",
    "    print(f\"\\nAn error occurred: {e}\")"
   ]
  }
 ],
 "metadata": {
  "kernelspec": {
   "display_name": "Python (citibike_env)",
   "language": "python",
   "name": "citibike_env"
  },
  "language_info": {
   "codemirror_mode": {
    "name": "ipython",
    "version": 3
   },
   "file_extension": ".py",
   "mimetype": "text/x-python",
   "name": "python",
   "nbconvert_exporter": "python",
   "pygments_lexer": "ipython3",
   "version": "3.9.23"
  }
 },
 "nbformat": 4,
 "nbformat_minor": 5
}
